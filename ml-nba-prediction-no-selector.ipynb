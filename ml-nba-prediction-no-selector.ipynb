{
 "cells": [
  {
   "cell_type": "code",
   "execution_count": 12,
   "metadata": {},
   "outputs": [],
   "source": [
    "import pandas as pd\n",
    "from sklearn.linear_model import RidgeClassifier\n",
    "from sklearn.model_selection import TimeSeriesSplit\n",
    "from sklearn.preprocessing import MinMaxScaler\n",
    "from sklearn.metrics import accuracy_score"
   ]
  },
  {
   "cell_type": "code",
   "execution_count": 13,
   "metadata": {},
   "outputs": [],
   "source": [
    "df = pd.read_csv(\"nba_games.csv\", index_col=0)\n",
    "df = df.sort_values(\"date\").reset_index(drop=True)"
   ]
  },
  {
   "cell_type": "code",
   "execution_count": 14,
   "metadata": {},
   "outputs": [],
   "source": [
    "del df[\"mp.1\"]\n",
    "del df[\"mp_opp.1\"]\n",
    "del df[\"index_opp\"]"
   ]
  },
  {
   "cell_type": "code",
   "execution_count": 15,
   "metadata": {},
   "outputs": [],
   "source": [
    "def add_target(group):\n",
    "    group[\"target\"] = group[\"won\"].shift(-1)\n",
    "    return group"
   ]
  },
  {
   "cell_type": "code",
   "execution_count": 16,
   "metadata": {},
   "outputs": [
    {
     "name": "stderr",
     "output_type": "stream",
     "text": [
      "/var/folders/cf/2q1x6qbd7t10wbl_xmlrblfc0000gn/T/ipykernel_70592/3178735140.py:2: PerformanceWarning: DataFrame is highly fragmented.  This is usually the result of calling `frame.insert` many times, which has poor performance.  Consider joining all columns at once using pd.concat(axis=1) instead. To get a de-fragmented frame, use `newframe = frame.copy()`\n",
      "  group[\"target\"] = group[\"won\"].shift(-1)\n",
      "/var/folders/cf/2q1x6qbd7t10wbl_xmlrblfc0000gn/T/ipykernel_70592/3178735140.py:2: PerformanceWarning: DataFrame is highly fragmented.  This is usually the result of calling `frame.insert` many times, which has poor performance.  Consider joining all columns at once using pd.concat(axis=1) instead. To get a de-fragmented frame, use `newframe = frame.copy()`\n",
      "  group[\"target\"] = group[\"won\"].shift(-1)\n",
      "/var/folders/cf/2q1x6qbd7t10wbl_xmlrblfc0000gn/T/ipykernel_70592/3178735140.py:2: PerformanceWarning: DataFrame is highly fragmented.  This is usually the result of calling `frame.insert` many times, which has poor performance.  Consider joining all columns at once using pd.concat(axis=1) instead. To get a de-fragmented frame, use `newframe = frame.copy()`\n",
      "  group[\"target\"] = group[\"won\"].shift(-1)\n",
      "/var/folders/cf/2q1x6qbd7t10wbl_xmlrblfc0000gn/T/ipykernel_70592/3178735140.py:2: PerformanceWarning: DataFrame is highly fragmented.  This is usually the result of calling `frame.insert` many times, which has poor performance.  Consider joining all columns at once using pd.concat(axis=1) instead. To get a de-fragmented frame, use `newframe = frame.copy()`\n",
      "  group[\"target\"] = group[\"won\"].shift(-1)\n",
      "/var/folders/cf/2q1x6qbd7t10wbl_xmlrblfc0000gn/T/ipykernel_70592/3178735140.py:2: PerformanceWarning: DataFrame is highly fragmented.  This is usually the result of calling `frame.insert` many times, which has poor performance.  Consider joining all columns at once using pd.concat(axis=1) instead. To get a de-fragmented frame, use `newframe = frame.copy()`\n",
      "  group[\"target\"] = group[\"won\"].shift(-1)\n",
      "/var/folders/cf/2q1x6qbd7t10wbl_xmlrblfc0000gn/T/ipykernel_70592/3178735140.py:2: PerformanceWarning: DataFrame is highly fragmented.  This is usually the result of calling `frame.insert` many times, which has poor performance.  Consider joining all columns at once using pd.concat(axis=1) instead. To get a de-fragmented frame, use `newframe = frame.copy()`\n",
      "  group[\"target\"] = group[\"won\"].shift(-1)\n",
      "/var/folders/cf/2q1x6qbd7t10wbl_xmlrblfc0000gn/T/ipykernel_70592/3178735140.py:2: PerformanceWarning: DataFrame is highly fragmented.  This is usually the result of calling `frame.insert` many times, which has poor performance.  Consider joining all columns at once using pd.concat(axis=1) instead. To get a de-fragmented frame, use `newframe = frame.copy()`\n",
      "  group[\"target\"] = group[\"won\"].shift(-1)\n",
      "/var/folders/cf/2q1x6qbd7t10wbl_xmlrblfc0000gn/T/ipykernel_70592/3178735140.py:2: PerformanceWarning: DataFrame is highly fragmented.  This is usually the result of calling `frame.insert` many times, which has poor performance.  Consider joining all columns at once using pd.concat(axis=1) instead. To get a de-fragmented frame, use `newframe = frame.copy()`\n",
      "  group[\"target\"] = group[\"won\"].shift(-1)\n",
      "/var/folders/cf/2q1x6qbd7t10wbl_xmlrblfc0000gn/T/ipykernel_70592/3178735140.py:2: PerformanceWarning: DataFrame is highly fragmented.  This is usually the result of calling `frame.insert` many times, which has poor performance.  Consider joining all columns at once using pd.concat(axis=1) instead. To get a de-fragmented frame, use `newframe = frame.copy()`\n",
      "  group[\"target\"] = group[\"won\"].shift(-1)\n",
      "/var/folders/cf/2q1x6qbd7t10wbl_xmlrblfc0000gn/T/ipykernel_70592/3178735140.py:2: PerformanceWarning: DataFrame is highly fragmented.  This is usually the result of calling `frame.insert` many times, which has poor performance.  Consider joining all columns at once using pd.concat(axis=1) instead. To get a de-fragmented frame, use `newframe = frame.copy()`\n",
      "  group[\"target\"] = group[\"won\"].shift(-1)\n",
      "/var/folders/cf/2q1x6qbd7t10wbl_xmlrblfc0000gn/T/ipykernel_70592/3178735140.py:2: PerformanceWarning: DataFrame is highly fragmented.  This is usually the result of calling `frame.insert` many times, which has poor performance.  Consider joining all columns at once using pd.concat(axis=1) instead. To get a de-fragmented frame, use `newframe = frame.copy()`\n",
      "  group[\"target\"] = group[\"won\"].shift(-1)\n",
      "/var/folders/cf/2q1x6qbd7t10wbl_xmlrblfc0000gn/T/ipykernel_70592/3178735140.py:2: PerformanceWarning: DataFrame is highly fragmented.  This is usually the result of calling `frame.insert` many times, which has poor performance.  Consider joining all columns at once using pd.concat(axis=1) instead. To get a de-fragmented frame, use `newframe = frame.copy()`\n",
      "  group[\"target\"] = group[\"won\"].shift(-1)\n",
      "/var/folders/cf/2q1x6qbd7t10wbl_xmlrblfc0000gn/T/ipykernel_70592/3178735140.py:2: PerformanceWarning: DataFrame is highly fragmented.  This is usually the result of calling `frame.insert` many times, which has poor performance.  Consider joining all columns at once using pd.concat(axis=1) instead. To get a de-fragmented frame, use `newframe = frame.copy()`\n",
      "  group[\"target\"] = group[\"won\"].shift(-1)\n",
      "/var/folders/cf/2q1x6qbd7t10wbl_xmlrblfc0000gn/T/ipykernel_70592/3178735140.py:2: PerformanceWarning: DataFrame is highly fragmented.  This is usually the result of calling `frame.insert` many times, which has poor performance.  Consider joining all columns at once using pd.concat(axis=1) instead. To get a de-fragmented frame, use `newframe = frame.copy()`\n",
      "  group[\"target\"] = group[\"won\"].shift(-1)\n",
      "/var/folders/cf/2q1x6qbd7t10wbl_xmlrblfc0000gn/T/ipykernel_70592/3178735140.py:2: PerformanceWarning: DataFrame is highly fragmented.  This is usually the result of calling `frame.insert` many times, which has poor performance.  Consider joining all columns at once using pd.concat(axis=1) instead. To get a de-fragmented frame, use `newframe = frame.copy()`\n",
      "  group[\"target\"] = group[\"won\"].shift(-1)\n",
      "/var/folders/cf/2q1x6qbd7t10wbl_xmlrblfc0000gn/T/ipykernel_70592/3178735140.py:2: PerformanceWarning: DataFrame is highly fragmented.  This is usually the result of calling `frame.insert` many times, which has poor performance.  Consider joining all columns at once using pd.concat(axis=1) instead. To get a de-fragmented frame, use `newframe = frame.copy()`\n",
      "  group[\"target\"] = group[\"won\"].shift(-1)\n",
      "/var/folders/cf/2q1x6qbd7t10wbl_xmlrblfc0000gn/T/ipykernel_70592/3178735140.py:2: PerformanceWarning: DataFrame is highly fragmented.  This is usually the result of calling `frame.insert` many times, which has poor performance.  Consider joining all columns at once using pd.concat(axis=1) instead. To get a de-fragmented frame, use `newframe = frame.copy()`\n",
      "  group[\"target\"] = group[\"won\"].shift(-1)\n",
      "/var/folders/cf/2q1x6qbd7t10wbl_xmlrblfc0000gn/T/ipykernel_70592/3178735140.py:2: PerformanceWarning: DataFrame is highly fragmented.  This is usually the result of calling `frame.insert` many times, which has poor performance.  Consider joining all columns at once using pd.concat(axis=1) instead. To get a de-fragmented frame, use `newframe = frame.copy()`\n",
      "  group[\"target\"] = group[\"won\"].shift(-1)\n",
      "/var/folders/cf/2q1x6qbd7t10wbl_xmlrblfc0000gn/T/ipykernel_70592/3178735140.py:2: PerformanceWarning: DataFrame is highly fragmented.  This is usually the result of calling `frame.insert` many times, which has poor performance.  Consider joining all columns at once using pd.concat(axis=1) instead. To get a de-fragmented frame, use `newframe = frame.copy()`\n",
      "  group[\"target\"] = group[\"won\"].shift(-1)\n",
      "/var/folders/cf/2q1x6qbd7t10wbl_xmlrblfc0000gn/T/ipykernel_70592/3178735140.py:2: PerformanceWarning: DataFrame is highly fragmented.  This is usually the result of calling `frame.insert` many times, which has poor performance.  Consider joining all columns at once using pd.concat(axis=1) instead. To get a de-fragmented frame, use `newframe = frame.copy()`\n",
      "  group[\"target\"] = group[\"won\"].shift(-1)\n",
      "/var/folders/cf/2q1x6qbd7t10wbl_xmlrblfc0000gn/T/ipykernel_70592/3178735140.py:2: PerformanceWarning: DataFrame is highly fragmented.  This is usually the result of calling `frame.insert` many times, which has poor performance.  Consider joining all columns at once using pd.concat(axis=1) instead. To get a de-fragmented frame, use `newframe = frame.copy()`\n",
      "  group[\"target\"] = group[\"won\"].shift(-1)\n",
      "/var/folders/cf/2q1x6qbd7t10wbl_xmlrblfc0000gn/T/ipykernel_70592/3178735140.py:2: PerformanceWarning: DataFrame is highly fragmented.  This is usually the result of calling `frame.insert` many times, which has poor performance.  Consider joining all columns at once using pd.concat(axis=1) instead. To get a de-fragmented frame, use `newframe = frame.copy()`\n",
      "  group[\"target\"] = group[\"won\"].shift(-1)\n",
      "/var/folders/cf/2q1x6qbd7t10wbl_xmlrblfc0000gn/T/ipykernel_70592/3178735140.py:2: PerformanceWarning: DataFrame is highly fragmented.  This is usually the result of calling `frame.insert` many times, which has poor performance.  Consider joining all columns at once using pd.concat(axis=1) instead. To get a de-fragmented frame, use `newframe = frame.copy()`\n",
      "  group[\"target\"] = group[\"won\"].shift(-1)\n",
      "/var/folders/cf/2q1x6qbd7t10wbl_xmlrblfc0000gn/T/ipykernel_70592/3178735140.py:2: PerformanceWarning: DataFrame is highly fragmented.  This is usually the result of calling `frame.insert` many times, which has poor performance.  Consider joining all columns at once using pd.concat(axis=1) instead. To get a de-fragmented frame, use `newframe = frame.copy()`\n",
      "  group[\"target\"] = group[\"won\"].shift(-1)\n",
      "/var/folders/cf/2q1x6qbd7t10wbl_xmlrblfc0000gn/T/ipykernel_70592/3178735140.py:2: PerformanceWarning: DataFrame is highly fragmented.  This is usually the result of calling `frame.insert` many times, which has poor performance.  Consider joining all columns at once using pd.concat(axis=1) instead. To get a de-fragmented frame, use `newframe = frame.copy()`\n",
      "  group[\"target\"] = group[\"won\"].shift(-1)\n",
      "/var/folders/cf/2q1x6qbd7t10wbl_xmlrblfc0000gn/T/ipykernel_70592/3178735140.py:2: PerformanceWarning: DataFrame is highly fragmented.  This is usually the result of calling `frame.insert` many times, which has poor performance.  Consider joining all columns at once using pd.concat(axis=1) instead. To get a de-fragmented frame, use `newframe = frame.copy()`\n",
      "  group[\"target\"] = group[\"won\"].shift(-1)\n",
      "/var/folders/cf/2q1x6qbd7t10wbl_xmlrblfc0000gn/T/ipykernel_70592/3178735140.py:2: PerformanceWarning: DataFrame is highly fragmented.  This is usually the result of calling `frame.insert` many times, which has poor performance.  Consider joining all columns at once using pd.concat(axis=1) instead. To get a de-fragmented frame, use `newframe = frame.copy()`\n",
      "  group[\"target\"] = group[\"won\"].shift(-1)\n",
      "/var/folders/cf/2q1x6qbd7t10wbl_xmlrblfc0000gn/T/ipykernel_70592/3178735140.py:2: PerformanceWarning: DataFrame is highly fragmented.  This is usually the result of calling `frame.insert` many times, which has poor performance.  Consider joining all columns at once using pd.concat(axis=1) instead. To get a de-fragmented frame, use `newframe = frame.copy()`\n",
      "  group[\"target\"] = group[\"won\"].shift(-1)\n",
      "/var/folders/cf/2q1x6qbd7t10wbl_xmlrblfc0000gn/T/ipykernel_70592/3178735140.py:2: PerformanceWarning: DataFrame is highly fragmented.  This is usually the result of calling `frame.insert` many times, which has poor performance.  Consider joining all columns at once using pd.concat(axis=1) instead. To get a de-fragmented frame, use `newframe = frame.copy()`\n",
      "  group[\"target\"] = group[\"won\"].shift(-1)\n",
      "/var/folders/cf/2q1x6qbd7t10wbl_xmlrblfc0000gn/T/ipykernel_70592/3178735140.py:2: PerformanceWarning: DataFrame is highly fragmented.  This is usually the result of calling `frame.insert` many times, which has poor performance.  Consider joining all columns at once using pd.concat(axis=1) instead. To get a de-fragmented frame, use `newframe = frame.copy()`\n",
      "  group[\"target\"] = group[\"won\"].shift(-1)\n",
      "/var/folders/cf/2q1x6qbd7t10wbl_xmlrblfc0000gn/T/ipykernel_70592/3561902901.py:1: DeprecationWarning: DataFrameGroupBy.apply operated on the grouping columns. This behavior is deprecated, and in a future version of pandas the grouping columns will be excluded from the operation. Either pass `include_groups=False` to exclude the groupings or explicitly select the grouping columns after groupby to silence this warning.\n",
      "  df = df.groupby(\"team\", group_keys=False).apply(add_target).reset_index(drop=True)\n",
      "/var/folders/cf/2q1x6qbd7t10wbl_xmlrblfc0000gn/T/ipykernel_70592/3561902901.py:2: FutureWarning: ChainedAssignmentError: behaviour will change in pandas 3.0!\n",
      "You are setting values through chained assignment. Currently this works in certain cases, but when using Copy-on-Write (which will become the default behaviour in pandas 3.0) this will never work to update the original DataFrame or Series, because the intermediate object on which we are setting values will behave as a copy.\n",
      "A typical example is when you are setting values in a column of a DataFrame, like:\n",
      "\n",
      "df[\"col\"][row_indexer] = value\n",
      "\n",
      "Use `df.loc[row_indexer, \"col\"] = values` instead, to perform the assignment in a single step and ensure this keeps updating the original `df`.\n",
      "\n",
      "See the caveats in the documentation: https://pandas.pydata.org/pandas-docs/stable/user_guide/indexing.html#returning-a-view-versus-a-copy\n",
      "\n",
      "  df[\"target\"][pd.isnull(df[\"target\"])] = 2\n",
      "/var/folders/cf/2q1x6qbd7t10wbl_xmlrblfc0000gn/T/ipykernel_70592/3561902901.py:2: SettingWithCopyWarning: \n",
      "A value is trying to be set on a copy of a slice from a DataFrame\n",
      "\n",
      "See the caveats in the documentation: https://pandas.pydata.org/pandas-docs/stable/user_guide/indexing.html#returning-a-view-versus-a-copy\n",
      "  df[\"target\"][pd.isnull(df[\"target\"])] = 2\n"
     ]
    }
   ],
   "source": [
    "df = df.groupby(\"team\", group_keys=False).apply(add_target).reset_index(drop=True)\n",
    "df[\"target\"][pd.isnull(df[\"target\"])] = 2\n",
    "df[\"target\"] = df[\"target\"].astype(int, errors=\"ignore\")"
   ]
  },
  {
   "cell_type": "code",
   "execution_count": 17,
   "metadata": {},
   "outputs": [],
   "source": [
    "nulls = pd.isnull(df).sum()\n",
    "nulls = nulls[nulls > 0]\n",
    "valid_columns = df.columns[~df.columns.isin(nulls.index)]\n",
    "df = df[valid_columns].copy()"
   ]
  },
  {
   "cell_type": "code",
   "execution_count": 18,
   "metadata": {},
   "outputs": [],
   "source": [
    "removed_columns = [\"season\", \"date\", \"won\", \"target\", \"team\", \"team_opp\"]\n",
    "selected_columns = df.columns[~df.columns.isin(removed_columns)]\n",
    "\n",
    "scaler = MinMaxScaler()\n",
    "df[selected_columns] = scaler.fit_transform(df[selected_columns])"
   ]
  },
  {
   "cell_type": "code",
   "execution_count": 19,
   "metadata": {},
   "outputs": [],
   "source": [
    "rr = RidgeClassifier(alpha=1)\n",
    "split = TimeSeriesSplit(n_splits=3)"
   ]
  },
  {
   "cell_type": "code",
   "execution_count": 20,
   "metadata": {},
   "outputs": [],
   "source": [
    "def backtest(data, model, predictors, start=2, step=1):\n",
    "    all_predictions = []\n",
    "    \n",
    "    seasons = sorted(data[\"season\"].unique())\n",
    "    \n",
    "    for i in range(start, len(seasons), step):\n",
    "        season = seasons[i]\n",
    "        train = data[data[\"season\"] < season]\n",
    "        test = data[data[\"season\"] == season]\n",
    "        \n",
    "        model.fit(train[predictors], train[\"target\"])\n",
    "        \n",
    "        preds = model.predict(test[predictors])\n",
    "        preds = pd.Series(preds, index=test.index)\n",
    "        combined = pd.concat([test[\"target\"], preds], axis=1)\n",
    "        combined.columns = [\"actual\", \"prediction\"]\n",
    "        \n",
    "        all_predictions.append(combined)\n",
    "    return pd.concat(all_predictions)"
   ]
  },
  {
   "cell_type": "code",
   "execution_count": 21,
   "metadata": {},
   "outputs": [],
   "source": [
    "predictors = list(selected_columns)\n",
    "predictions = backtest(df, rr, predictors)"
   ]
  },
  {
   "cell_type": "code",
   "execution_count": 22,
   "metadata": {},
   "outputs": [
    {
     "name": "stdout",
     "output_type": "stream",
     "text": [
      "wynik to 53.330138955438436% dokładności osiągnięte przez model bez selekcji cech\n"
     ]
    }
   ],
   "source": [
    "wynik = accuracy_score(predictions[\"actual\"], predictions[\"prediction\"])\n",
    "print(f\"wynik to {wynik*100:.4f}%\" + \" dokładności osiągnięte przez model bez selekcji cech\")"
   ]
  },
  {
   "cell_type": "code",
   "execution_count": 23,
   "metadata": {},
   "outputs": [
    {
     "name": "stderr",
     "output_type": "stream",
     "text": [
      "/var/folders/cf/2q1x6qbd7t10wbl_xmlrblfc0000gn/T/ipykernel_70592/330557953.py:1: DeprecationWarning: DataFrameGroupBy.apply operated on the grouping columns. This behavior is deprecated, and in a future version of pandas the grouping columns will be excluded from the operation. Either pass `include_groups=False` to exclude the groupings or explicitly select the grouping columns after groupby to silence this warning.\n",
      "  df.groupby([\"home\"]).apply(lambda x: x[x[\"won\"] == 1].shape[0] / x.shape[0])\n"
     ]
    },
    {
     "data": {
      "text/plain": [
       "home\n",
       "0.0    0.428314\n",
       "1.0    0.571686\n",
       "dtype: float64"
      ]
     },
     "execution_count": 23,
     "metadata": {},
     "output_type": "execute_result"
    }
   ],
   "source": [
    "df.groupby([\"home\"]).apply(lambda x: x[x[\"won\"] == 1].shape[0] / x.shape[0])"
   ]
  },
  {
   "cell_type": "code",
   "execution_count": 24,
   "metadata": {},
   "outputs": [
    {
     "name": "stdout",
     "output_type": "stream",
     "text": [
      "wynik to 57.1686% dokładności oceniając, czy drużyna grała na swoim stadionie\n"
     ]
    }
   ],
   "source": [
    "print(f\"wynik to {0.571686*100:.4f}%\" + \" dokładności oceniając, czy drużyna grała na swoim stadionie\")"
   ]
  }
 ],
 "metadata": {
  "kernelspec": {
   "display_name": "venv",
   "language": "python",
   "name": "python3"
  },
  "language_info": {
   "codemirror_mode": {
    "name": "ipython",
    "version": 3
   },
   "file_extension": ".py",
   "mimetype": "text/x-python",
   "name": "python",
   "nbconvert_exporter": "python",
   "pygments_lexer": "ipython3",
   "version": "3.12.2"
  }
 },
 "nbformat": 4,
 "nbformat_minor": 2
}
